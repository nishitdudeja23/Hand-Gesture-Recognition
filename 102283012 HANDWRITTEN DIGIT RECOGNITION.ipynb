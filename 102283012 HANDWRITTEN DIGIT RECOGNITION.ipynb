{
 "cells": [
  {
   "cell_type": "code",
   "execution_count": 13,
   "metadata": {},
   "outputs": [],
   "source": [
    "//NISHIT DUDEJA \n",
    "import numpy as np\n",
    "import pandas as pd\n",
    "import matplotlib.pyplot as plt\n",
    "import seaborn as sns"
   ]
  },
  {
   "cell_type": "code",
   "execution_count": 14,
   "metadata": {},
   "outputs": [],
   "source": [
    "data_df = pd.read_csv(\"train (1).csv\")"
   ]
  },
  {
   "cell_type": "code",
   "execution_count": 15,
   "metadata": {},
   "outputs": [
    {
     "data": {
      "text/html": [
       "<div>\n",
       "<style scoped>\n",
       "    .dataframe tbody tr th:only-of-type {\n",
       "        vertical-align: middle;\n",
       "    }\n",
       "\n",
       "    .dataframe tbody tr th {\n",
       "        vertical-align: top;\n",
       "    }\n",
       "\n",
       "    .dataframe thead th {\n",
       "        text-align: right;\n",
       "    }\n",
       "</style>\n",
       "<table border=\"1\" class=\"dataframe\">\n",
       "  <thead>\n",
       "    <tr style=\"text-align: right;\">\n",
       "      <th></th>\n",
       "      <th>label</th>\n",
       "      <th>1x1</th>\n",
       "      <th>1x2</th>\n",
       "      <th>1x3</th>\n",
       "      <th>1x4</th>\n",
       "      <th>1x5</th>\n",
       "      <th>1x6</th>\n",
       "      <th>1x7</th>\n",
       "      <th>1x8</th>\n",
       "      <th>1x9</th>\n",
       "      <th>...</th>\n",
       "      <th>28x19</th>\n",
       "      <th>28x20</th>\n",
       "      <th>28x21</th>\n",
       "      <th>28x22</th>\n",
       "      <th>28x23</th>\n",
       "      <th>28x24</th>\n",
       "      <th>28x25</th>\n",
       "      <th>28x26</th>\n",
       "      <th>28x27</th>\n",
       "      <th>28x28</th>\n",
       "    </tr>\n",
       "  </thead>\n",
       "  <tbody>\n",
       "    <tr>\n",
       "      <th>0</th>\n",
       "      <td>1</td>\n",
       "      <td>0</td>\n",
       "      <td>0</td>\n",
       "      <td>0</td>\n",
       "      <td>0</td>\n",
       "      <td>0</td>\n",
       "      <td>0</td>\n",
       "      <td>0</td>\n",
       "      <td>0</td>\n",
       "      <td>0</td>\n",
       "      <td>...</td>\n",
       "      <td>0</td>\n",
       "      <td>0</td>\n",
       "      <td>0</td>\n",
       "      <td>0</td>\n",
       "      <td>0</td>\n",
       "      <td>0</td>\n",
       "      <td>0</td>\n",
       "      <td>0</td>\n",
       "      <td>0</td>\n",
       "      <td>0</td>\n",
       "    </tr>\n",
       "    <tr>\n",
       "      <th>1</th>\n",
       "      <td>0</td>\n",
       "      <td>0</td>\n",
       "      <td>0</td>\n",
       "      <td>0</td>\n",
       "      <td>0</td>\n",
       "      <td>0</td>\n",
       "      <td>0</td>\n",
       "      <td>0</td>\n",
       "      <td>0</td>\n",
       "      <td>0</td>\n",
       "      <td>...</td>\n",
       "      <td>0</td>\n",
       "      <td>0</td>\n",
       "      <td>0</td>\n",
       "      <td>0</td>\n",
       "      <td>0</td>\n",
       "      <td>0</td>\n",
       "      <td>0</td>\n",
       "      <td>0</td>\n",
       "      <td>0</td>\n",
       "      <td>0</td>\n",
       "    </tr>\n",
       "    <tr>\n",
       "      <th>2</th>\n",
       "      <td>1</td>\n",
       "      <td>0</td>\n",
       "      <td>0</td>\n",
       "      <td>0</td>\n",
       "      <td>0</td>\n",
       "      <td>0</td>\n",
       "      <td>0</td>\n",
       "      <td>0</td>\n",
       "      <td>0</td>\n",
       "      <td>0</td>\n",
       "      <td>...</td>\n",
       "      <td>0</td>\n",
       "      <td>0</td>\n",
       "      <td>0</td>\n",
       "      <td>0</td>\n",
       "      <td>0</td>\n",
       "      <td>0</td>\n",
       "      <td>0</td>\n",
       "      <td>0</td>\n",
       "      <td>0</td>\n",
       "      <td>0</td>\n",
       "    </tr>\n",
       "    <tr>\n",
       "      <th>3</th>\n",
       "      <td>4</td>\n",
       "      <td>0</td>\n",
       "      <td>0</td>\n",
       "      <td>0</td>\n",
       "      <td>0</td>\n",
       "      <td>0</td>\n",
       "      <td>0</td>\n",
       "      <td>0</td>\n",
       "      <td>0</td>\n",
       "      <td>0</td>\n",
       "      <td>...</td>\n",
       "      <td>0</td>\n",
       "      <td>0</td>\n",
       "      <td>0</td>\n",
       "      <td>0</td>\n",
       "      <td>0</td>\n",
       "      <td>0</td>\n",
       "      <td>0</td>\n",
       "      <td>0</td>\n",
       "      <td>0</td>\n",
       "      <td>0</td>\n",
       "    </tr>\n",
       "    <tr>\n",
       "      <th>4</th>\n",
       "      <td>0</td>\n",
       "      <td>0</td>\n",
       "      <td>0</td>\n",
       "      <td>0</td>\n",
       "      <td>0</td>\n",
       "      <td>0</td>\n",
       "      <td>0</td>\n",
       "      <td>0</td>\n",
       "      <td>0</td>\n",
       "      <td>0</td>\n",
       "      <td>...</td>\n",
       "      <td>0</td>\n",
       "      <td>0</td>\n",
       "      <td>0</td>\n",
       "      <td>0</td>\n",
       "      <td>0</td>\n",
       "      <td>0</td>\n",
       "      <td>0</td>\n",
       "      <td>0</td>\n",
       "      <td>0</td>\n",
       "      <td>0</td>\n",
       "    </tr>\n",
       "  </tbody>\n",
       "</table>\n",
       "<p>5 rows × 785 columns</p>\n",
       "</div>"
      ],
      "text/plain": [
       "   label  1x1  1x2  1x3  1x4  1x5  1x6  1x7  1x8  1x9  ...  28x19  28x20  \\\n",
       "0      1    0    0    0    0    0    0    0    0    0  ...      0      0   \n",
       "1      0    0    0    0    0    0    0    0    0    0  ...      0      0   \n",
       "2      1    0    0    0    0    0    0    0    0    0  ...      0      0   \n",
       "3      4    0    0    0    0    0    0    0    0    0  ...      0      0   \n",
       "4      0    0    0    0    0    0    0    0    0    0  ...      0      0   \n",
       "\n",
       "   28x21  28x22  28x23  28x24  28x25  28x26  28x27  28x28  \n",
       "0      0      0      0      0      0      0      0      0  \n",
       "1      0      0      0      0      0      0      0      0  \n",
       "2      0      0      0      0      0      0      0      0  \n",
       "3      0      0      0      0      0      0      0      0  \n",
       "4      0      0      0      0      0      0      0      0  \n",
       "\n",
       "[5 rows x 785 columns]"
      ]
     },
     "execution_count": 15,
     "metadata": {},
     "output_type": "execute_result"
    }
   ],
   "source": [
    "data_df.head()"
   ]
  },
  {
   "cell_type": "code",
   "execution_count": 16,
   "metadata": {},
   "outputs": [
    {
     "data": {
      "text/plain": [
       "(42000, 785)"
      ]
     },
     "execution_count": 16,
     "metadata": {},
     "output_type": "execute_result"
    }
   ],
   "source": [
    "data_df.shape"
   ]
  },
  {
   "cell_type": "code",
   "execution_count": 17,
   "metadata": {},
   "outputs": [],
   "source": [
    "y=data_df['label']\n",
    "x=data_df.drop('label',axis=1)"
   ]
  },
  {
   "cell_type": "code",
   "execution_count": 18,
   "metadata": {},
   "outputs": [
    {
     "data": {
      "text/plain": [
       "pandas.core.frame.DataFrame"
      ]
     },
     "execution_count": 18,
     "metadata": {},
     "output_type": "execute_result"
    }
   ],
   "source": [
    "type(x)"
   ]
  },
  {
   "cell_type": "code",
   "execution_count": 19,
   "metadata": {},
   "outputs": [
    {
     "data": {
      "image/png": "[encoded data removed]",
      "text/plain": [
       "<Figure size 640x480 with 1 Axes>"
      ]
     },
     "metadata": {},
     "output_type": "display_data"
    }
   ],
   "source": [
    "a = np.random.random((10,10))\n",
    "plt.figure()\n",
    "plt.imshow(a, cmap='gray')\n",
    "plt.show()"
   ]
  },
  {
   "cell_type": "code",
   "execution_count": 20,
   "metadata": {},
   "outputs": [
    {
     "data": {
      "text/plain": [
       "(5000, 785)"
      ]
     },
     "execution_count": 20,
     "metadata": {},
     "output_type": "execute_result"
    }
   ],
   "source": [
    "data = data_df.values[:5000]\n",
    "data.shape"
   ]
  },
  {
   "cell_type": "code",
   "execution_count": 21,
   "metadata": {},
   "outputs": [],
   "source": [
    "X, y = data[:,1:], data[:, 0]"
   ]
  },
  {
   "cell_type": "code",
   "execution_count": 22,
   "metadata": {},
   "outputs": [
    {
     "data": {
      "image/png": "[encoded data removed]",
      "text/plain": [
       "<Figure size 640x480 with 1 Axes>"
      ]
     },
     "metadata": {},
     "output_type": "display_data"
    }
   ],
   "source": [
    "im = X[4997].reshape((28,28))\n",
    "plt.figure()\n",
    "plt.imshow(im, cmap='gray')\n",
    "plt.show()"
   ]
  },
  {
   "cell_type": "code",
   "execution_count": 23,
   "metadata": {},
   "outputs": [
    {
     "name": "stdout",
     "output_type": "stream",
     "text": [
      "(4000, 784) (4000,)\n",
      "(1000, 784) (1000,)\n",
      "[1 0 1 ... 6 6 4]\n",
      "[8 8 0 5 0 0 3 8 2 1 2 5 6 3 0 6 6 1 3 9 6 0 2 4 6 3 2 7 8 3 2 9 9 4 7 2 7\n",
      " 8 6 1 5 0 9 5 5 2 5 7 4 0 2 9 8 3 2 1 2 4 6 2 3 3 2 1 6 8 5 5 6 1 8 4 4 4\n",
      " 7 8 1 2 0 4 5 8 2 3 4 2 7 7 9 4 7 5 9 5 7 0 4 0 6 8 5 8 6 0 4 3 6 2 0 9 1\n",
      " 4 9 7 9 5 6 2 2 0 8 4 2 9 9 5 9 6 9 0 4 0 9 0 6 6 8 4 8 7 3 1 4 9 0 1 7 0\n",
      " 7 7 3 3 2 4 0 9 6 1 9 2 8 6 5 0 2 1 7 8 0 0 8 6 1 5 4 0 6 6 9 7 7 1 0 8 6\n",
      " 3 8 5 6 0 8 7 3 2 3 4 5 9 2 5 7 7 1 8 1 7 5 6 4 4 2 6 9 6 7 9 1 2 1 9 6 8\n",
      " 1 4 2 0 9 4 0 1 1 9 9 1 7 6 2 9 0 3 4 3 2 5 2 0 5 1 8 5 6 0 6 3 7 3 4 4 6\n",
      " 7 1 3 6 1 5 1 0 3 5 6 0 4 6 3 3 9 2 3 9 3 9 3 4 2 6 3 4 6 4 2 7 9 7 5 1 9\n",
      " 6 4 0 6 0 3 0 9 9 5 1 1 7 2 1 6 2 3 0 9 1 6 5 9 5 9 2 1 2 2 2 3 1 2 2 6 8\n",
      " 9 4 9 9 4 4 7 2 3 3 6 8 1 2 3 6 5 6 7 8 8 4 8 2 6 8 0 1 3 6 7 5 1 6 1 6 1\n",
      " 3 0 9 0 9 1 3 0 2 1 2 4 3 6 2 5 5 0 2 4 0 2 3 3 1 1 0 4 7 4 0 4 1 1 8 3 8\n",
      " 5 7 7 4 4 3 6 6 5 4 9 2 5 8 6 5 1 5 7 3 9 5 7 8 8 0 7 0 1 6 8 9 1 1 7 9 8\n",
      " 7 9 3 7 3 9 3 2 1 1 2 7 3 9 1 0 8 2 3 4 0 6 7 9 4 7 0 9 2 5 3 0 4 3 6 3 8\n",
      " 6 5 8 6 1 6 3 3 2 8 2 0 0 0 2 4 3 2 4 5 3 9 8 7 4 5 7 0 1 1 3 3 9 6 5 6 4\n",
      " 4 4 6 3 0 1 5 8 2 0 0 1 8 1 7 4 7 4 3 2 1 2 5 2 8 5 7 5 0 5 4 2 4 0 9 1 5\n",
      " 3 1 7 7 2 0 7 5 9 0 1 9 9 7 2 3 6 9 0 1 2 7 1 9 8 5 7 7 5 3 8 2 7 8 1 7 7\n",
      " 7 6 7 6 5 2 9 4 5 2 8 7 2 9 6 5 0 4 2 6 8 2 1 9 2 0 2 3 6 0 2 4 0 5 8 2 4\n",
      " 2 1 5 8 7 9 2 9 2 3 5 7 2 1 3 6 8 1 5 7 8 0 0 4 3 0 6 9 8 8 9 4 9 3 8 1 7\n",
      " 3 9 9 5 2 8 9 6 4 1 4 2 9 1 9 8 5 2 7 1 8 1 3 5 8 8 6 3 6 5 5 1 8 9 4 9 9\n",
      " 0 2 2 3 6 8 1 2 4 2 9 3 5 1 0 6 6 8 1 0 2 6 0 6 3 2 0 5 5 9 0 8 9 7 7 3 4\n",
      " 9 1 2 8 9 4 3 9 3 6 1 1 4 2 8 6 2 7 2 2 6 0 1 9 7 6 4 2 6 3 3 7 2 9 1 5 5\n",
      " 3 7 6 5 3 6 0 9 0 1 2 7 1 0 8 5 1 1 6 6 1 3 8 8 1 7 1 7 9 7 1 3 6 5 5 0 3\n",
      " 6 8 0 1 3 8 7 5 5 9 3 8 3 6 8 7 5 8 0 2 5 1 6 2 7 4 4 3 9 7 3 9 1 6 0 4 4\n",
      " 8 6 5 2 3 1 3 2 8 4 7 2 8 9 2 8 2 4 8 4 9 4 1 0 5 9 8 1 7 1 5 9 1 6 3 7 6\n",
      " 0 9 5 3 6 5 6 5 1 3 2 1 3 2 3 8 3 5 7 2 0 4 3 1 2 9 6 3 7 0 8 1 3 6 4 8 4\n",
      " 3 5 7 7 0 1 1 8 1 5 6 5 2 3 2 5 1 3 3 4 6 4 1 1 8 1 6 8 1 2 4 8 0 3 4 9 4\n",
      " 2 0 3 0 3 7 7 8 7 7 2 8 3 8 3 6 7 7 3 6 7 0 9 1 3 0 2 8 7 1 4 0 7 2 5 8 7\n",
      " 9]\n"
     ]
    }
   ],
   "source": [
    "split = int(X.shape[0] * 0.80)\n",
    "X_train, X_test, y_train, y_test = X[:split], X[split:], y[:split], y[split:]\n",
    "print(X_train.shape, y_train.shape)\n",
    "print(X_test.shape, y_test.shape)\n",
    "print(y_train)\n",
    "print(y_test)"
   ]
  },
  {
   "cell_type": "code",
   "execution_count": 24,
   "metadata": {},
   "outputs": [
    {
     "data": {
      "text/plain": [
       "5.196152422706632"
      ]
     },
     "execution_count": 24,
     "metadata": {},
     "output_type": "execute_result"
    }
   ],
   "source": [
    "def knn(X_train, y_train, test_point, k=5):\n",
    "    \n",
    "    distances = []\n",
    "    \n",
    "    for data_point, label in zip(X_train, y_train):\n",
    "        distances.append((euclidean(test_point, data_point), label))\n",
    "    sorted_distances = sorted(distances, key=lambda x: x[0])\n",
    "    k_nearest_neighbors = np.array(sorted_distances[:k])\n",
    "    freq = np.unique(k_nearest_neighbors[:,1], return_counts=True)\n",
    "    labels, counts = freq\n",
    "    majority_vote = labels[counts.argmax()]\n",
    "    return majority_vote\n",
    "\n",
    "def euclidean(p1, p2):\n",
    "    return np.sqrt(np.sum((p1-p2)**2))\n",
    "\n",
    "euclidean(np.array([1,2,3]), np.array([4,5,6]))"
   ]
  },
  {
   "cell_type": "code",
   "execution_count": 26,
   "metadata": {},
   "outputs": [
    {
     "data": {
      "text/plain": [
       "5.196152422706632"
      ]
     },
     "execution_count": 26,
     "metadata": {},
     "output_type": "execute_result"
    }
   ],
   "source": [
    "def knn(X_train, y_train, test_point, k=3):\n",
    "    \n",
    "    distances = []\n",
    "    \n",
    "    for data_point, label in zip(X_train, y_train):\n",
    "        distances.append((euclidean(test_point, data_point), label))\n",
    "    sorted_distances = sorted(distances, key=lambda x: x[0])\n",
    "    k_nearest_neighbors = np.array(sorted_distances[:k])\n",
    "    freq = np.unique(k_nearest_neighbors[:,1], return_counts=True)\n",
    "    labels, counts = freq\n",
    "    majority_vote = labels[counts.argmax()]\n",
    "    return majority_vote\n",
    "\n",
    "def euclidean(p1, p2):\n",
    "    return np.sqrt(np.sum((p1-p2)**2))\n",
    "\n",
    "euclidean(np.array([1,2,3]), np.array([4,5,6]))"
   ]
  },
  {
   "cell_type": "code",
   "execution_count": 27,
   "metadata": {},
   "outputs": [
    {
     "data": {
      "text/plain": [
       "5.196152422706632"
      ]
     },
     "execution_count": 27,
     "metadata": {},
     "output_type": "execute_result"
    }
   ],
   "source": [
    "def knn(X_train, y_train, test_point, k=7):\n",
    "    \n",
    "    distances = []\n",
    "    \n",
    "    for data_point, label in zip(X_train, y_train):\n",
    "        distances.append((euclidean(test_point, data_point), label))\n",
    "    sorted_distances = sorted(distances, key=lambda x: x[0])\n",
    "    k_nearest_neighbors = np.array(sorted_distances[:k])\n",
    "    freq = np.unique(k_nearest_neighbors[:,1], return_counts=True)\n",
    "    labels, counts = freq\n",
    "    majority_vote = labels[counts.argmax()]\n",
    "    return majority_vote\n",
    "\n",
    "def euclidean(p1, p2):\n",
    "    return np.sqrt(np.sum((p1-p2)**2))\n",
    "\n",
    "euclidean(np.array([1,2,3]), np.array([4,5,6]))"
   ]
  },
  {
   "cell_type": "code",
   "execution_count": 29,
   "metadata": {},
   "outputs": [
    {
     "data": {
      "text/plain": [
       "5.196152422706632"
      ]
     },
     "execution_count": 29,
     "metadata": {},
     "output_type": "execute_result"
    }
   ],
   "source": [
    "def knn(X_train, y_train, test_point, k=9):\n",
    "    \n",
    "    distances = []\n",
    "    \n",
    "    for data_point, label in zip(X_train, y_train):\n",
    "        distances.append((euclidean(test_point, data_point), label))\n",
    "    sorted_distances = sorted(distances, key=lambda x: x[0])\n",
    "    k_nearest_neighbors = np.array(sorted_distances[:k])\n",
    "    freq = np.unique(k_nearest_neighbors[:,1], return_counts=True)\n",
    "    labels, counts = freq\n",
    "    majority_vote = labels[counts.argmax()]\n",
    "    return majority_vote\n",
    "\n",
    "def euclidean(p1, p2):\n",
    "    return np.sqrt(np.sum((p1-p2)**2))\n",
    "\n",
    "euclidean(np.array([1,2,3]), np.array([4,5,6]))"
   ]
  },
  {
   "cell_type": "code",
   "execution_count": 30,
   "metadata": {},
   "outputs": [
    {
     "data": {
      "text/plain": [
       "5.196152422706632"
      ]
     },
     "execution_count": 30,
     "metadata": {},
     "output_type": "execute_result"
    }
   ],
   "source": [
    "def knn(X_train, y_train, test_point, k=11):\n",
    "    \n",
    "    distances = []\n",
    "    \n",
    "    for data_point, label in zip(X_train, y_train):\n",
    "        distances.append((euclidean(test_point, data_point), label))\n",
    "    sorted_distances = sorted(distances, key=lambda x: x[0])\n",
    "    k_nearest_neighbors = np.array(sorted_distances[:k])\n",
    "    freq = np.unique(k_nearest_neighbors[:,1], return_counts=True)\n",
    "    labels, counts = freq\n",
    "    majority_vote = labels[counts.argmax()]\n",
    "    return majority_vote\n",
    "\n",
    "def euclidean(p1, p2):\n",
    "    return np.sqrt(np.sum((p1-p2)**2))\n",
    "\n",
    "euclidean(np.array([1,2,3]), np.array([4,5,6]))"
   ]
  },
  {
   "cell_type": "code",
   "execution_count": 31,
   "metadata": {},
   "outputs": [],
   "source": [
    "def calculate_accuracy(X_test, y_test, X_train, y_train, k=5):\n",
    "    \n",
    "    predictions = []\n",
    "    \n",
    "    for test_point in X_test:\n",
    "        pred_label = knn(X_train, y_train, test_point, k)\n",
    "        predictions.append(pred_label)\n",
    "    \n",
    "    predictions = np.array(predictions)\n",
    "    \n",
    "    accuracy = (predictions == y_test).sum() / y_test.shape[0]\n",
    "    return accuracy"
   ]
  },
  {
   "cell_type": "code",
   "execution_count": 32,
   "metadata": {},
   "outputs": [
    {
     "data": {
      "text/plain": [
       "0.928"
      ]
     },
     "execution_count": 32,
     "metadata": {},
     "output_type": "execute_result"
    }
   ],
   "source": [
    "calculate_accuracy(X_test, y_test, X_train, y_train, k=5)"
   ]
  },
  {
   "cell_type": "code",
   "execution_count": 33,
   "metadata": {},
   "outputs": [],
   "source": [
    "def calculate_accuracy(X_test, y_test, X_train, y_train, k=3):\n",
    "    \n",
    "    predictions = []\n",
    "    \n",
    "    for test_point in X_test:\n",
    "        pred_label = knn(X_train, y_train, test_point, k)\n",
    "        predictions.append(pred_label)\n",
    "    \n",
    "    predictions = np.array(predictions)\n",
    "    \n",
    "    accuracy = (predictions == y_test).sum() / y_test.shape[0]\n",
    "    return accuracy"
   ]
  },
  {
   "cell_type": "code",
   "execution_count": 34,
   "metadata": {},
   "outputs": [
    {
     "data": {
      "text/plain": [
       "0.926"
      ]
     },
     "execution_count": 34,
     "metadata": {},
     "output_type": "execute_result"
    }
   ],
   "source": [
    "calculate_accuracy(X_test, y_test, X_train, y_train, k=3)"
   ]
  },
  {
   "cell_type": "code",
   "execution_count": 35,
   "metadata": {},
   "outputs": [],
   "source": [
    "def calculate_accuracy(X_test, y_test, X_train, y_train, k=7):\n",
    "    \n",
    "    predictions = []\n",
    "    \n",
    "    for test_point in X_test:\n",
    "        pred_label = knn(X_train, y_train, test_point, k)\n",
    "        predictions.append(pred_label)\n",
    "    \n",
    "    predictions = np.array(predictions)\n",
    "    \n",
    "    accuracy = (predictions == y_test).sum() / y_test.shape[0]\n",
    "    return accuracy"
   ]
  },
  {
   "cell_type": "code",
   "execution_count": 36,
   "metadata": {},
   "outputs": [
    {
     "data": {
      "text/plain": [
       "0.926"
      ]
     },
     "execution_count": 36,
     "metadata": {},
     "output_type": "execute_result"
    }
   ],
   "source": [
    "calculate_accuracy(X_test, y_test, X_train, y_train, k=7)"
   ]
  },
  {
   "cell_type": "code",
   "execution_count": 37,
   "metadata": {},
   "outputs": [],
   "source": [
    "def calculate_accuracy(X_test, y_test, X_train, y_train, k=9):\n",
    "    \n",
    "    predictions = []\n",
    "    \n",
    "    for test_point in X_test:\n",
    "        pred_label = knn(X_train, y_train, test_point, k)\n",
    "        predictions.append(pred_label)\n",
    "    \n",
    "    predictions = np.array(predictions)\n",
    "    \n",
    "    accuracy = (predictions == y_test).sum() / y_test.shape[0]\n",
    "    return accuracy"
   ]
  },
  {
   "cell_type": "code",
   "execution_count": 38,
   "metadata": {},
   "outputs": [
    {
     "data": {
      "text/plain": [
       "0.931"
      ]
     },
     "execution_count": 38,
     "metadata": {},
     "output_type": "execute_result"
    }
   ],
   "source": [
    "calculate_accuracy(X_test, y_test, X_train, y_train, k=9)"
   ]
  },
  {
   "cell_type": "code",
   "execution_count": 39,
   "metadata": {},
   "outputs": [],
   "source": [
    "def calculate_accuracy(X_test, y_test, X_train, y_train, k=11):\n",
    "    \n",
    "    predictions = []\n",
    "    \n",
    "    for test_point in X_test:\n",
    "        pred_label = knn(X_train, y_train, test_point, k)\n",
    "        predictions.append(pred_label)\n",
    "    \n",
    "    predictions = np.array(predictions)\n",
    "    \n",
    "    accuracy = (predictions == y_test).sum() / y_test.shape[0]\n",
    "    return accuracy"
   ]
  },
  {
   "cell_type": "code",
   "execution_count": 40,
   "metadata": {},
   "outputs": [
    {
     "data": {
      "text/plain": [
       "0.923"
      ]
     },
     "execution_count": 40,
     "metadata": {},
     "output_type": "execute_result"
    }
   ],
   "source": [
    "calculate_accuracy(X_test, y_test, X_train, y_train, k=11)"
   ]
  },
  {
   "cell_type": "code",
   "execution_count": 41,
   "metadata": {},
   "outputs": [],
   "source": [
    "test_df = pd.read_csv(\"test.csv\")"
   ]
  },
  {
   "cell_type": "code",
   "execution_count": 42,
   "metadata": {},
   "outputs": [
    {
     "data": {
      "text/html": [
       "<div>\n",
       "<style scoped>\n",
       "    .dataframe tbody tr th:only-of-type {\n",
       "        vertical-align: middle;\n",
       "    }\n",
       "\n",
       "    .dataframe tbody tr th {\n",
       "        vertical-align: top;\n",
       "    }\n",
       "\n",
       "    .dataframe thead th {\n",
       "        text-align: right;\n",
       "    }\n",
       "</style>\n",
       "<table border=\"1\" class=\"dataframe\">\n",
       "  <thead>\n",
       "    <tr style=\"text-align: right;\">\n",
       "      <th></th>\n",
       "      <th>label</th>\n",
       "      <th>1x1</th>\n",
       "      <th>1x2</th>\n",
       "      <th>1x3</th>\n",
       "      <th>1x4</th>\n",
       "      <th>1x5</th>\n",
       "      <th>1x6</th>\n",
       "      <th>1x7</th>\n",
       "      <th>1x8</th>\n",
       "      <th>1x9</th>\n",
       "      <th>...</th>\n",
       "      <th>28x19</th>\n",
       "      <th>28x20</th>\n",
       "      <th>28x21</th>\n",
       "      <th>28x22</th>\n",
       "      <th>28x23</th>\n",
       "      <th>28x24</th>\n",
       "      <th>28x25</th>\n",
       "      <th>28x26</th>\n",
       "      <th>28x27</th>\n",
       "      <th>28x28</th>\n",
       "    </tr>\n",
       "  </thead>\n",
       "  <tbody>\n",
       "    <tr>\n",
       "      <th>0</th>\n",
       "      <td>7</td>\n",
       "      <td>0</td>\n",
       "      <td>0</td>\n",
       "      <td>0</td>\n",
       "      <td>0</td>\n",
       "      <td>0</td>\n",
       "      <td>0</td>\n",
       "      <td>0</td>\n",
       "      <td>0</td>\n",
       "      <td>0</td>\n",
       "      <td>...</td>\n",
       "      <td>0</td>\n",
       "      <td>0</td>\n",
       "      <td>0</td>\n",
       "      <td>0</td>\n",
       "      <td>0</td>\n",
       "      <td>0</td>\n",
       "      <td>0</td>\n",
       "      <td>0</td>\n",
       "      <td>0</td>\n",
       "      <td>0</td>\n",
       "    </tr>\n",
       "    <tr>\n",
       "      <th>1</th>\n",
       "      <td>2</td>\n",
       "      <td>0</td>\n",
       "      <td>0</td>\n",
       "      <td>0</td>\n",
       "      <td>0</td>\n",
       "      <td>0</td>\n",
       "      <td>0</td>\n",
       "      <td>0</td>\n",
       "      <td>0</td>\n",
       "      <td>0</td>\n",
       "      <td>...</td>\n",
       "      <td>0</td>\n",
       "      <td>0</td>\n",
       "      <td>0</td>\n",
       "      <td>0</td>\n",
       "      <td>0</td>\n",
       "      <td>0</td>\n",
       "      <td>0</td>\n",
       "      <td>0</td>\n",
       "      <td>0</td>\n",
       "      <td>0</td>\n",
       "    </tr>\n",
       "    <tr>\n",
       "      <th>2</th>\n",
       "      <td>1</td>\n",
       "      <td>0</td>\n",
       "      <td>0</td>\n",
       "      <td>0</td>\n",
       "      <td>0</td>\n",
       "      <td>0</td>\n",
       "      <td>0</td>\n",
       "      <td>0</td>\n",
       "      <td>0</td>\n",
       "      <td>0</td>\n",
       "      <td>...</td>\n",
       "      <td>0</td>\n",
       "      <td>0</td>\n",
       "      <td>0</td>\n",
       "      <td>0</td>\n",
       "      <td>0</td>\n",
       "      <td>0</td>\n",
       "      <td>0</td>\n",
       "      <td>0</td>\n",
       "      <td>0</td>\n",
       "      <td>0</td>\n",
       "    </tr>\n",
       "    <tr>\n",
       "      <th>3</th>\n",
       "      <td>0</td>\n",
       "      <td>0</td>\n",
       "      <td>0</td>\n",
       "      <td>0</td>\n",
       "      <td>0</td>\n",
       "      <td>0</td>\n",
       "      <td>0</td>\n",
       "      <td>0</td>\n",
       "      <td>0</td>\n",
       "      <td>0</td>\n",
       "      <td>...</td>\n",
       "      <td>0</td>\n",
       "      <td>0</td>\n",
       "      <td>0</td>\n",
       "      <td>0</td>\n",
       "      <td>0</td>\n",
       "      <td>0</td>\n",
       "      <td>0</td>\n",
       "      <td>0</td>\n",
       "      <td>0</td>\n",
       "      <td>0</td>\n",
       "    </tr>\n",
       "    <tr>\n",
       "      <th>4</th>\n",
       "      <td>4</td>\n",
       "      <td>0</td>\n",
       "      <td>0</td>\n",
       "      <td>0</td>\n",
       "      <td>0</td>\n",
       "      <td>0</td>\n",
       "      <td>0</td>\n",
       "      <td>0</td>\n",
       "      <td>0</td>\n",
       "      <td>0</td>\n",
       "      <td>...</td>\n",
       "      <td>0</td>\n",
       "      <td>0</td>\n",
       "      <td>0</td>\n",
       "      <td>0</td>\n",
       "      <td>0</td>\n",
       "      <td>0</td>\n",
       "      <td>0</td>\n",
       "      <td>0</td>\n",
       "      <td>0</td>\n",
       "      <td>0</td>\n",
       "    </tr>\n",
       "  </tbody>\n",
       "</table>\n",
       "<p>5 rows × 785 columns</p>\n",
       "</div>"
      ],
      "text/plain": [
       "   label  1x1  1x2  1x3  1x4  1x5  1x6  1x7  1x8  1x9  ...  28x19  28x20  \\\n",
       "0      7    0    0    0    0    0    0    0    0    0  ...      0      0   \n",
       "1      2    0    0    0    0    0    0    0    0    0  ...      0      0   \n",
       "2      1    0    0    0    0    0    0    0    0    0  ...      0      0   \n",
       "3      0    0    0    0    0    0    0    0    0    0  ...      0      0   \n",
       "4      4    0    0    0    0    0    0    0    0    0  ...      0      0   \n",
       "\n",
       "   28x21  28x22  28x23  28x24  28x25  28x26  28x27  28x28  \n",
       "0      0      0      0      0      0      0      0      0  \n",
       "1      0      0      0      0      0      0      0      0  \n",
       "2      0      0      0      0      0      0      0      0  \n",
       "3      0      0      0      0      0      0      0      0  \n",
       "4      0      0      0      0      0      0      0      0  \n",
       "\n",
       "[5 rows x 785 columns]"
      ]
     },
     "execution_count": 42,
     "metadata": {},
     "output_type": "execute_result"
    }
   ],
   "source": [
    "test_df.head()"
   ]
  },
  {
   "cell_type": "code",
   "execution_count": 43,
   "metadata": {},
   "outputs": [
    {
     "data": {
      "text/plain": [
       "(10, 785)"
      ]
     },
     "execution_count": 43,
     "metadata": {},
     "output_type": "execute_result"
    }
   ],
   "source": [
    "test_data = test_df.values\n",
    "test_images = test_data[:10]\n",
    "test_images.shape"
   ]
  },
  {
   "cell_type": "code",
   "execution_count": 46,
   "metadata": {},
   "outputs": [
    {
     "data": {
      "image/png": "[encoded data removed]",
      "text/plain": [
       "<Figure size 640x480 with 1 Axes>"
      ]
     },
     "metadata": {},
     "output_type": "display_data"
    },
    {
     "data": {
      "image/png": "[encoded data removed]",
      "text/plain": [
       "<Figure size 640x480 with 1 Axes>"
      ]
     },
     "metadata": {},
     "output_type": "display_data"
    },
    {
     "data": {
      "image/png": "[encoded data removed]",
      "text/plain": [
       "<Figure size 640x480 with 1 Axes>"
      ]
     },
     "metadata": {},
     "output_type": "display_data"
    },
    {
     "data": {
      "image/png": "[encoded data removed]",
      "text/plain": [
       "<Figure size 640x480 with 1 Axes>"
      ]
     },
     "metadata": {},
     "output_type": "display_data"
    },
    {
     "data": {
      "image/png": "[encoded data removed]",
      "text/plain": [
       "<Figure size 640x480 with 1 Axes>"
      ]
     },
     "metadata": {},
     "output_type": "display_data"
    },
    {
     "data": {
      "image/png": "[encoded data removed]",
      "text/plain": [
       "<Figure size 640x480 with 1 Axes>"
      ]
     },
     "metadata": {},
     "output_type": "display_data"
    },
    {
     "data": {
      "image/png": "[encoded data removed]",
      "text/plain": [
       "<Figure size 640x480 with 1 Axes>"
      ]
     },
     "metadata": {},
     "output_type": "display_data"
    },
    {
     "data": {
      "image/png": "[encoded data removed]",
      "text/plain": [
       "<Figure size 640x480 with 1 Axes>"
      ]
     },
     "metadata": {},
     "output_type": "display_data"
    },
    {
     "data": {
      "image/png": "[encoded data removed]",
      "text/plain": [
       "<Figure size 640x480 with 1 Axes>"
      ]
     },
     "metadata": {},
     "output_type": "display_data"
    },
    {
     "data": {
      "image/png": "[encoded data removed]",
      "text/plain": [
       "<Figure size 640x480 with 1 Axes>"
      ]
     },
     "metadata": {},
     "output_type": "display_data"
    }
   ],
   "source": [
    "for test in test_images:\n",
    "    im = test.reshape(5,157)\n",
    "    plt.figure()\n",
    "    plt.imshow(im, cmap='gray')\n",
    "    plt.show()"
   ]
  },
  {
   "cell_type": "code",
   "execution_count": 48,
   "metadata": {},
   "outputs": [
    {
     "data": {
      "text/html": [
       "<style>#sk-container-id-1 {color: black;background-color: white;}#sk-container-id-1 pre{padding: 0;}#sk-container-id-1 div.sk-toggleable {background-color: white;}#sk-container-id-1 label.sk-toggleable__label {cursor: pointer;display: block;width: 100%;margin-bottom: 0;padding: 0.3em;box-sizing: border-box;text-align: center;}#sk-container-id-1 label.sk-toggleable__label-arrow:before {content: \"▸\";float: left;margin-right: 0.25em;color: #696969;}#sk-container-id-1 label.sk-toggleable__label-arrow:hover:before {color: black;}#sk-container-id-1 div.sk-estimator:hover label.sk-toggleable__label-arrow:before {color: black;}#sk-container-id-1 div.sk-toggleable__content {max-height: 0;max-width: 0;overflow: hidden;text-align: left;background-color: #f0f8ff;}#sk-container-id-1 div.sk-toggleable__content pre {margin: 0.2em;color: black;border-radius: 0.25em;background-color: #f0f8ff;}#sk-container-id-1 input.sk-toggleable__control:checked~div.sk-toggleable__content {max-height: 200px;max-width: 100%;overflow: auto;}#sk-container-id-1 input.sk-toggleable__control:checked~label.sk-toggleable__label-arrow:before {content: \"▾\";}#sk-container-id-1 div.sk-estimator input.sk-toggleable__control:checked~label.sk-toggleable__label {background-color: #d4ebff;}#sk-container-id-1 div.sk-label input.sk-toggleable__control:checked~label.sk-toggleable__label {background-color: #d4ebff;}#sk-container-id-1 input.sk-hidden--visually {border: 0;clip: rect(1px 1px 1px 1px);clip: rect(1px, 1px, 1px, 1px);height: 1px;margin: -1px;overflow: hidden;padding: 0;position: absolute;width: 1px;}#sk-container-id-1 div.sk-estimator {font-family: monospace;background-color: #f0f8ff;border: 1px dotted black;border-radius: 0.25em;box-sizing: border-box;margin-bottom: 0.5em;}#sk-container-id-1 div.sk-estimator:hover {background-color: #d4ebff;}#sk-container-id-1 div.sk-parallel-item::after {content: \"\";width: 100%;border-bottom: 1px solid gray;flex-grow: 1;}#sk-container-id-1 div.sk-label:hover label.sk-toggleable__label {background-color: #d4ebff;}#sk-container-id-1 div.sk-serial::before {content: \"\";position: absolute;border-left: 1px solid gray;box-sizing: border-box;top: 0;bottom: 0;left: 50%;z-index: 0;}#sk-container-id-1 div.sk-serial {display: flex;flex-direction: column;align-items: center;background-color: white;padding-right: 0.2em;padding-left: 0.2em;position: relative;}#sk-container-id-1 div.sk-item {position: relative;z-index: 1;}#sk-container-id-1 div.sk-parallel {display: flex;align-items: stretch;justify-content: center;background-color: white;position: relative;}#sk-container-id-1 div.sk-item::before, #sk-container-id-1 div.sk-parallel-item::before {content: \"\";position: absolute;border-left: 1px solid gray;box-sizing: border-box;top: 0;bottom: 0;left: 50%;z-index: -1;}#sk-container-id-1 div.sk-parallel-item {display: flex;flex-direction: column;z-index: 1;position: relative;background-color: white;}#sk-container-id-1 div.sk-parallel-item:first-child::after {align-self: flex-end;width: 50%;}#sk-container-id-1 div.sk-parallel-item:last-child::after {align-self: flex-start;width: 50%;}#sk-container-id-1 div.sk-parallel-item:only-child::after {width: 0;}#sk-container-id-1 div.sk-dashed-wrapped {border: 1px dashed gray;margin: 0 0.4em 0.5em 0.4em;box-sizing: border-box;padding-bottom: 0.4em;background-color: white;}#sk-container-id-1 div.sk-label label {font-family: monospace;font-weight: bold;display: inline-block;line-height: 1.2em;}#sk-container-id-1 div.sk-label-container {text-align: center;}#sk-container-id-1 div.sk-container {/* jupyter's `normalize.less` sets `[hidden] { display: none; }` but bootstrap.min.css set `[hidden] { display: none !important; }` so we also need the `!important` here to be able to override the default hidden behavior on the sphinx rendered scikit-learn.org. See: https://github.com/scikit-learn/scikit-learn/issues/21755 */display: inline-block !important;position: relative;}#sk-container-id-1 div.sk-text-repr-fallback {display: none;}</style><div id=\"sk-container-id-1\" class=\"sk-top-container\"><div class=\"sk-text-repr-fallback\"><pre>KNeighborsClassifier(n_neighbors=3)</pre><b>In a Jupyter environment, please rerun this cell to show the HTML representation or trust the notebook. <br />On GitHub, the HTML representation is unable to render, please try loading this page with nbviewer.org.</b></div><div class=\"sk-container\" hidden><div class=\"sk-item\"><div class=\"sk-estimator sk-toggleable\"><input class=\"sk-toggleable__control sk-hidden--visually\" id=\"sk-estimator-id-1\" type=\"checkbox\" checked><label for=\"sk-estimator-id-1\" class=\"sk-toggleable__label sk-toggleable__label-arrow\">KNeighborsClassifier</label><div class=\"sk-toggleable__content\"><pre>KNeighborsClassifier(n_neighbors=3)</pre></div></div></div></div></div>"
      ],
      "text/plain": [
       "KNeighborsClassifier(n_neighbors=3)"
      ]
     },
     "execution_count": 48,
     "metadata": {},
     "output_type": "execute_result"
    }
   ],
   "source": [
    "from sklearn.neighbors import KNeighborsClassifier\n",
    "classifier = KNeighborsClassifier(n_neighbors = 3)\n",
    "classifier.fit(X_train, y_train)"
   ]
  },
  {
   "cell_type": "code",
   "execution_count": 49,
   "metadata": {},
   "outputs": [
    {
     "data": {
      "text/plain": [
       "array([8, 8, 0, 5, 0, 0, 3, 8, 3, 1, 2, 5, 6, 3, 0, 6, 6, 1, 3, 9, 6, 0,\n",
       "       2, 4, 6, 3, 2, 7, 8, 5, 2, 9, 9, 4, 1, 2, 7, 3, 6, 1, 8, 0, 9, 5,\n",
       "       5, 2, 5, 7, 4, 0, 2, 9, 8, 3, 2, 1, 2, 4, 6, 2, 3, 3, 2, 1, 0, 1,\n",
       "       5, 5, 6, 1, 8, 4, 4, 4, 7, 8, 1, 2, 0, 4, 5, 8, 2, 3, 4, 2, 1, 7,\n",
       "       9, 4, 7, 5, 1, 5, 4, 0, 4, 8, 6, 8, 5, 8, 6, 0, 4, 3, 6, 2, 0, 9,\n",
       "       1, 4, 9, 7, 9, 5, 6, 2, 2, 0, 8, 4, 2, 9, 9, 5, 9, 6, 9, 0, 4, 0,\n",
       "       9, 0, 6, 6, 8, 4, 8, 7, 3, 1, 4, 9, 0, 1, 7, 0, 7, 7, 3, 3, 2, 4,\n",
       "       0, 9, 6, 1, 9, 2, 8, 6, 3, 0, 0, 1, 7, 8, 0, 6, 5, 6, 1, 5, 1, 0,\n",
       "       6, 6, 9, 7, 7, 1, 0, 5, 6, 3, 8, 5, 6, 0, 7, 7, 3, 2, 0, 4, 5, 9,\n",
       "       2, 5, 7, 7, 1, 8, 1, 7, 5, 6, 4, 4, 2, 6, 9, 6, 1, 9, 1, 2, 1, 9,\n",
       "       6, 8, 1, 4, 2, 0, 9, 4, 0, 1, 1, 9, 9, 1, 4, 6, 4, 9, 0, 3, 4, 3,\n",
       "       2, 5, 2, 0, 2, 1, 8, 5, 6, 0, 6, 3, 7, 3, 4, 4, 6, 7, 1, 3, 6, 1,\n",
       "       5, 1, 0, 3, 5, 6, 0, 4, 6, 3, 3, 9, 2, 3, 9, 3, 9, 3, 4, 2, 6, 3,\n",
       "       4, 6, 9, 2, 7, 9, 7, 5, 1, 9, 6, 4, 0, 6, 0, 3, 0, 9, 9, 5, 1, 1,\n",
       "       7, 2, 1, 6, 2, 3, 0, 9, 1, 6, 5, 9, 5, 9, 2, 1, 2, 2, 2, 3, 1, 2,\n",
       "       2, 6, 0, 9, 4, 9, 9, 4, 9, 7, 2, 3, 3, 6, 8, 1, 2, 3, 6, 5, 6, 7,\n",
       "       8, 1, 4, 8, 2, 6, 8, 0, 1, 3, 6, 7, 5, 1, 6, 1, 6, 1, 3, 0, 9, 0,\n",
       "       4, 1, 3, 0, 2, 1, 2, 4, 3, 6, 2, 5, 5, 0, 2, 4, 0, 2, 3, 3, 1, 1,\n",
       "       0, 4, 7, 4, 0, 4, 1, 1, 8, 3, 8, 5, 7, 7, 4, 4, 5, 6, 6, 5, 4, 9,\n",
       "       2, 5, 0, 6, 5, 1, 5, 7, 3, 9, 5, 7, 8, 8, 0, 7, 0, 1, 6, 8, 9, 1,\n",
       "       1, 7, 9, 8, 7, 9, 3, 7, 3, 7, 3, 1, 1, 1, 2, 7, 3, 9, 1, 0, 8, 2,\n",
       "       3, 4, 0, 6, 7, 9, 4, 7, 0, 9, 2, 5, 3, 0, 4, 3, 6, 3, 8, 6, 5, 3,\n",
       "       6, 1, 6, 3, 3, 2, 8, 2, 0, 0, 0, 2, 4, 3, 2, 4, 6, 3, 9, 8, 7, 4,\n",
       "       5, 7, 0, 1, 1, 3, 3, 9, 6, 5, 6, 4, 4, 4, 6, 3, 0, 1, 5, 8, 2, 0,\n",
       "       0, 1, 8, 1, 9, 4, 7, 4, 3, 2, 1, 2, 5, 2, 8, 5, 7, 5, 0, 5, 4, 2,\n",
       "       4, 0, 9, 1, 5, 5, 1, 7, 7, 2, 0, 7, 5, 9, 0, 1, 9, 9, 7, 2, 3, 6,\n",
       "       9, 0, 1, 2, 7, 1, 9, 5, 5, 7, 7, 5, 3, 3, 2, 7, 8, 1, 7, 7, 7, 6,\n",
       "       7, 6, 5, 2, 9, 4, 5, 2, 8, 7, 2, 7, 6, 5, 0, 4, 2, 6, 8, 2, 1, 9,\n",
       "       2, 0, 2, 3, 6, 0, 2, 4, 0, 5, 8, 2, 4, 0, 1, 5, 8, 9, 9, 2, 9, 2,\n",
       "       3, 5, 7, 2, 1, 3, 5, 8, 1, 5, 7, 8, 0, 0, 4, 3, 0, 6, 9, 8, 8, 4,\n",
       "       4, 9, 3, 8, 1, 7, 3, 9, 9, 5, 2, 8, 9, 6, 4, 1, 4, 9, 7, 1, 9, 8,\n",
       "       5, 2, 7, 1, 8, 1, 3, 5, 3, 8, 6, 3, 6, 5, 4, 1, 8, 9, 4, 9, 9, 0,\n",
       "       2, 2, 4, 6, 8, 1, 2, 4, 2, 9, 3, 5, 1, 0, 6, 6, 8, 1, 0, 2, 6, 6,\n",
       "       6, 3, 2, 0, 5, 5, 9, 0, 8, 9, 7, 7, 3, 4, 9, 1, 2, 8, 9, 4, 3, 9,\n",
       "       3, 6, 1, 1, 4, 2, 8, 6, 2, 7, 2, 2, 6, 0, 1, 9, 7, 6, 4, 2, 6, 3,\n",
       "       3, 9, 2, 9, 1, 5, 5, 3, 7, 6, 5, 3, 6, 0, 9, 0, 1, 2, 7, 7, 6, 8,\n",
       "       3, 1, 1, 6, 6, 1, 3, 8, 8, 1, 7, 1, 7, 9, 7, 1, 3, 6, 0, 5, 0, 3,\n",
       "       6, 8, 0, 1, 3, 8, 7, 9, 5, 9, 3, 8, 3, 6, 8, 7, 5, 1, 0, 2, 5, 1,\n",
       "       6, 2, 7, 4, 4, 3, 7, 1, 3, 9, 1, 6, 0, 4, 4, 8, 6, 5, 0, 3, 1, 3,\n",
       "       7, 8, 4, 7, 2, 8, 2, 2, 8, 2, 4, 8, 4, 1, 4, 1, 0, 5, 9, 9, 1, 7,\n",
       "       1, 5, 9, 1, 6, 3, 7, 6, 0, 9, 5, 3, 6, 5, 6, 6, 1, 9, 2, 1, 3, 2,\n",
       "       3, 3, 3, 5, 7, 2, 0, 4, 3, 1, 2, 9, 6, 3, 7, 0, 8, 1, 3, 6, 4, 8,\n",
       "       4, 3, 3, 7, 1, 0, 1, 1, 8, 1, 5, 6, 5, 2, 3, 2, 5, 1, 3, 3, 4, 6,\n",
       "       4, 1, 1, 8, 3, 6, 8, 1, 9, 4, 8, 0, 3, 4, 9, 4, 2, 0, 3, 0, 3, 9,\n",
       "       7, 8, 7, 1, 7, 8, 3, 8, 3, 6, 7, 7, 3, 6, 7, 0, 9, 1, 3, 0, 2, 6,\n",
       "       7, 1, 4, 0, 7, 2, 5, 8, 7, 9])"
      ]
     },
     "execution_count": 49,
     "metadata": {},
     "output_type": "execute_result"
    }
   ],
   "source": [
    "y_pred = classifier.predict(X_test)\n",
    "y_pred"
   ]
  },
  {
   "cell_type": "code",
   "execution_count": 50,
   "metadata": {},
   "outputs": [
    {
     "name": "stdout",
     "output_type": "stream",
     "text": [
      "0.926\n"
     ]
    }
   ],
   "source": [
    "from sklearn.metrics import accuracy_score,classification_report,confusion_matrix\n",
    "print(accuracy_score(y_test, y_pred))"
   ]
  },
  {
   "cell_type": "code",
   "execution_count": 51,
   "metadata": {},
   "outputs": [
    {
     "name": "stdout",
     "output_type": "stream",
     "text": [
      "              precision    recall  f1-score   support\n",
      "\n",
      "           0       0.92      0.96      0.94        94\n",
      "           1       0.89      0.98      0.94       112\n",
      "           2       0.98      0.91      0.95       115\n",
      "           3       0.91      0.95      0.93       110\n",
      "           4       0.92      0.97      0.94        88\n",
      "           5       0.92      0.89      0.90        90\n",
      "           6       0.94      0.98      0.96       103\n",
      "           7       0.91      0.88      0.89        97\n",
      "           8       0.97      0.83      0.90        94\n",
      "           9       0.89      0.91      0.90        97\n",
      "\n",
      "    accuracy                           0.93      1000\n",
      "   macro avg       0.93      0.92      0.92      1000\n",
      "weighted avg       0.93      0.93      0.93      1000\n",
      "\n"
     ]
    }
   ],
   "source": [
    "print(classification_report(y_test, y_pred))"
   ]
  },
  {
   "cell_type": "code",
   "execution_count": 52,
   "metadata": {},
   "outputs": [
    {
     "name": "stdout",
     "output_type": "stream",
     "text": [
      "[[ 90   0   0   0   0   0   3   0   1   0]\n",
      " [  0 110   0   1   0   0   0   1   0   0]\n",
      " [  3   1 105   1   1   0   0   2   0   2]\n",
      " [  1   0   0 104   1   3   0   0   0   1]\n",
      " [  0   1   0   0  85   0   0   0   0   2]\n",
      " [  1   0   1   3   1  80   2   0   1   1]\n",
      " [  1   0   0   0   0   1 101   0   0   0]\n",
      " [  0   6   0   0   2   0   0  85   0   4]\n",
      " [  2   3   0   5   0   3   1   1  78   1]\n",
      " [  0   2   1   0   2   0   0   4   0  88]]\n"
     ]
    }
   ],
   "source": [
    "print(confusion_matrix(y_test, y_pred))"
   ]
  }
 ],
 "metadata": {
  "kernelspec": {
   "display_name": "Python 3",
   "language": "python",
   "name": "python3"
  },
  "language_info": {
   "codemirror_mode": {
    "name": "ipython",
    "version": 3
   },
   "file_extension": ".py",
   "mimetype": "text/x-python",
   "name": "python",
   "nbconvert_exporter": "python",
   "pygments_lexer": "ipython3",
   "version": "3.10.9"
  },
  "orig_nbformat": 4,
  "vscode": {
   "interpreter": {
    "hash": "b0fa6594d8f4cbf19f97940f81e996739fb7646882a419484c72d19e05852a7e"
   }
  }
 },
 "nbformat": 4,
 "nbformat_minor": 2
}
